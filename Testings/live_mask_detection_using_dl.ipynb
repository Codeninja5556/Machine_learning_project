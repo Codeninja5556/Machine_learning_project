{
  "nbformat": 4,
  "nbformat_minor": 0,
  "metadata": {
    "colab": {
      "provenance": [],
      "authorship_tag": "ABX9TyNPlp99x0EkIovGThQI/uvV",
      "include_colab_link": true
    },
    "kernelspec": {
      "name": "python3",
      "display_name": "Python 3"
    },
    "language_info": {
      "name": "python"
    },
    "accelerator": "GPU",
    "gpuClass": "standard"
  },
  "cells": [
    {
      "cell_type": "markdown",
      "metadata": {
        "id": "view-in-github",
        "colab_type": "text"
      },
      "source": [
        "<a href=\"https://colab.research.google.com/github/ninja-codes-droid/Machine_learning_project/blob/master/Testings/live_mask_detection_using_dl.ipynb\" target=\"_parent\"><img src=\"https://colab.research.google.com/assets/colab-badge.svg\" alt=\"Open In Colab\"/></a>"
      ]
    },
    {
      "cell_type": "markdown",
      "source": [
        "#**Live Mask Detection using Deep Learning - Convolutional Neural Network**"
      ],
      "metadata": {
        "id": "2PuQirVORo4l"
      }
    },
    {
      "cell_type": "markdown",
      "source": [
        "##Importing Libraries "
      ],
      "metadata": {
        "id": "ELR26VvYR4uP"
      }
    },
    {
      "cell_type": "code",
      "execution_count": null,
      "metadata": {
        "id": "FXAoIctVRiXb"
      },
      "outputs": [],
      "source": [
        "import numpy as np # For Data processing\n",
        "import tensorflow.keras as tk  # For Model processing \n",
        "import seaborn as sns  # Python data visualization library based on matplotlib\n",
        "import matplotlib.pyplot as plt  # For Data Visualization\n",
        "from tensorflow.keras.preprocessing.image import ImageDataGenerator # For Data Preprocessing"
      ]
    },
    {
      "cell_type": "markdown",
      "source": [
        "## Data Acquisition\n",
        "###### This is a face mask detection dataset from kaggle authored by ashishjangra27 (https://www.kaggle.com/datasets/ashishjangra27/face-mask-12k-images-dataset) ,The dataset contains two classes of images ( withmask and withoutmask) .\n"
      ],
      "metadata": {
        "id": "doVOjE4qVi8a"
      }
    },
    {
      "cell_type": "markdown",
      "source": [
        "###Downloading Dataset from Kaggle\n"
      ],
      "metadata": {
        "id": "BFj-9ODxVsQk"
      }
    },
    {
      "cell_type": "code",
      "source": [
        "!pip install kaggle         #Install Kaggle python library"
      ],
      "metadata": {
        "id": "NAI_CRpXV5VA"
      },
      "execution_count": null,
      "outputs": []
    },
    {
      "cell_type": "code",
      "source": [
        "# Mount Google drive to store credentials of kaggle for future use \n",
        "from google.colab import drive \n",
        "drive.mount('/content/drive')"
      ],
      "metadata": {
        "id": "CY7cvBGsWruT"
      },
      "execution_count": null,
      "outputs": []
    },
    {
      "cell_type": "code",
      "source": [
        "# Make a temporary location to store the Kaggle Cred for this instance\n",
        "! mkdir ~/.kaggle"
      ],
      "metadata": {
        "id": "xQlA4JGXZ27N"
      },
      "execution_count": null,
      "outputs": []
    },
    {
      "cell_type": "code",
      "source": [
        "# Copy the Cred from google drive to the temporary location \n",
        "! cp /content/drive/MyDrive/Colab\\ Notebooks/Kaggle\\ cred/kaggle.json ~/.kaggle/kaggle.json\n",
        "# Changing permission to owner only\n",
        "! chmod 600 ~/.kaggle/kaggle.json"
      ],
      "metadata": {
        "id": "mTefV6dQZCEi"
      },
      "execution_count": null,
      "outputs": []
    },
    {
      "cell_type": "code",
      "source": [
        "# Downloading Dataset from kaggle\n",
        "! kaggle datasets download ashishjangra27/face-mask-12k-images-dataset"
      ],
      "metadata": {
        "colab": {
          "base_uri": "https://localhost:8080/"
        },
        "id": "evtISxjPZ0f0",
        "outputId": "fc5f2e17-334e-4550-9622-c1fe63776106"
      },
      "execution_count": null,
      "outputs": [
        {
          "output_type": "stream",
          "name": "stdout",
          "text": [
            "Downloading face-mask-12k-images-dataset.zip to /content\n",
            " 99% 327M/330M [00:16<00:00, 20.8MB/s]\n",
            "100% 330M/330M [00:16<00:00, 21.2MB/s]\n"
          ]
        }
      ]
    },
    {
      "cell_type": "code",
      "source": [
        "#Unzipping the Dataset \n",
        "! unzip /content/face-mask-12k-images-dataset.zip"
      ],
      "metadata": {
        "id": "rMPk4k0qc4jY"
      },
      "execution_count": null,
      "outputs": []
    }
  ]
}