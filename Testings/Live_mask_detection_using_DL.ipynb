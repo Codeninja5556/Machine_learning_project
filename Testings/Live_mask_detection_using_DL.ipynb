{
  "nbformat": 4,
  "nbformat_minor": 0,
  "metadata": {
    "colab": {
      "provenance": [],
      "authorship_tag": "ABX9TyNbquauqDND989WxPJvbHvH",
      "include_colab_link": true
    },
    "kernelspec": {
      "name": "python3",
      "display_name": "Python 3"
    },
    "language_info": {
      "name": "python"
    },
    "accelerator": "GPU",
    "gpuClass": "standard"
  },
  "cells": [
    {
      "cell_type": "markdown",
      "metadata": {
        "id": "view-in-github",
        "colab_type": "text"
      },
      "source": [
        "<a href=\"https://colab.research.google.com/github/ninja-codes-droid/Machine_learning_project/blob/master/Testings/Live_mask_detection_using_DL.ipynb\" target=\"_parent\"><img src=\"https://colab.research.google.com/assets/colab-badge.svg\" alt=\"Open In Colab\"/></a>"
      ]
    },
    {
      "cell_type": "markdown",
      "source": [
        "#**Live Mask Detection using Deep Learning - Convolutional Neural Network**"
      ],
      "metadata": {
        "id": "2PuQirVORo4l"
      }
    },
    {
      "cell_type": "markdown",
      "source": [
        "##Importing Libraries "
      ],
      "metadata": {
        "id": "ELR26VvYR4uP"
      }
    },
    {
      "cell_type": "code",
      "execution_count": 1,
      "metadata": {
        "id": "FXAoIctVRiXb"
      },
      "outputs": [],
      "source": [
        "import numpy as np # For Data processing\n",
        "import tensorflow.keras as tk  # For Model processing \n",
        "import seaborn as sns  # Python data visualization library based on matplotlib\n",
        "import matplotlib.pyplot as plt  # For Data Visualization\n",
        "from tensorflow.keras.preprocessing.image import ImageDataGenerator # For Data Preprocessing"
      ]
    },
    {
      "cell_type": "markdown",
      "source": [
        "## Data Acquisition\n",
        "###### This is a face mask detection dataset from kaggle authored by ashishjangra27 (https://www.kaggle.com/datasets/ashishjangra27/face-mask-12k-images-dataset) ,The dataset contains two classes of images ( withmask and withoutmask) .\n"
      ],
      "metadata": {
        "id": "doVOjE4qVi8a"
      }
    },
    {
      "cell_type": "markdown",
      "source": [
        "###Downloading Dataset from Kaggle\n"
      ],
      "metadata": {
        "id": "BFj-9ODxVsQk"
      }
    },
    {
      "cell_type": "code",
      "source": [
        "!pip install kaggle         #Install Kaggle python library"
      ],
      "metadata": {
        "id": "NAI_CRpXV5VA"
      },
      "execution_count": null,
      "outputs": []
    },
    {
      "cell_type": "code",
      "source": [
        "# Mount Google drive to store credentials of kaggle for future use \n",
        "from google.colab import drive \n",
        "drive.mount('/content/drive')"
      ],
      "metadata": {
        "id": "CY7cvBGsWruT"
      },
      "execution_count": null,
      "outputs": []
    },
    {
      "cell_type": "code",
      "source": [
        "# Make a temporary location to store the Kaggle Cred for this instance\n",
        "! mkdir ~/.kaggle"
      ],
      "metadata": {
        "id": "xQlA4JGXZ27N"
      },
      "execution_count": 4,
      "outputs": []
    },
    {
      "cell_type": "code",
      "source": [
        "# Copy the Cred from google drive to the temporary location \n",
        "! cp /content/drive/MyDrive/Colab\\ Notebooks/Kaggle\\ cred/kaggle.json ~/.kaggle/kaggle.json\n",
        "# Changing permission to owner only\n",
        "! chmod 600 ~/.kaggle/kaggle.json"
      ],
      "metadata": {
        "id": "mTefV6dQZCEi"
      },
      "execution_count": 5,
      "outputs": []
    },
    {
      "cell_type": "code",
      "source": [
        "# Downloading Dataset from kaggle\n",
        "! kaggle datasets download ashishjangra27/face-mask-12k-images-dataset"
      ],
      "metadata": {
        "id": "evtISxjPZ0f0"
      },
      "execution_count": null,
      "outputs": []
    },
    {
      "cell_type": "code",
      "source": [
        "#Unzipping the Dataset \n",
        "! unzip /content/face-mask-12k-images-dataset.zip"
      ],
      "metadata": {
        "id": "rMPk4k0qc4jY"
      },
      "execution_count": null,
      "outputs": []
    },
    {
      "cell_type": "markdown",
      "source": [
        "### Data Preprocessing "
      ],
      "metadata": {
        "id": "9faHwrPZw_wq"
      }
    },
    {
      "cell_type": "code",
      "source": [
        "# Assigning image folders to the corrosponding variables \n",
        "train_dataset_path = '/content/Face Mask Dataset/Train'\n",
        "validation_dataset_path = '/content/Face Mask Dataset/Validation'"
      ],
      "metadata": {
        "id": "228f7D8ixLQP"
      },
      "execution_count": 9,
      "outputs": []
    },
    {
      "cell_type": "code",
      "source": [
        "# Generating more images using below parameters\n",
        "training_datagen = ImageDataGenerator(rescale = 1./255, rotation_range = 40,\n",
        "                                                                                            width_shift_range = 0.2,\n",
        "                                                                                            height_shift_range = 0.2,\n",
        "                                                                                            shear_range = 0.2,\n",
        "                                                                                            zoom_range = 0.2,\n",
        "                                                                                            horizontal_flip = True,\n",
        "                                                                                            fill_mode = 'nearest'\n",
        "                                                                  )\n",
        "# This generator reads images from train dataset and \n",
        "# create batches of augmented image data \n",
        "\n",
        "training_data  = training_datagen.flow_from_directory(train_dataset_path,target_size=(200,200),batch_size = 128,class_mode = 'binary')   "
      ],
      "metadata": {
        "id": "6DRo4tydxuVh"
      },
      "execution_count": null,
      "outputs": []
    },
    {
      "cell_type": "code",
      "source": [
        "# To display assigned values to classes \n",
        "training_data.class_indices"
      ],
      "metadata": {
        "colab": {
          "base_uri": "https://localhost:8080/"
        },
        "id": "JIHQ8hfizxZB",
        "outputId": "4d88c91f-0641-4f7f-d7ba-50f63747af89"
      },
      "execution_count": 30,
      "outputs": [
        {
          "output_type": "execute_result",
          "data": {
            "text/plain": [
              "{'WithMask': 0, 'WithoutMask': 1}"
            ]
          },
          "metadata": {},
          "execution_count": 30
        }
      ]
    },
    {
      "cell_type": "code",
      "source": [
        "#Show augmented images \n",
        "def plotImages(image_arr):\n",
        "    fig, axes  = plt.subplots(1,5,figsize=(20,20))\n",
        "    axes = axes.flatten()\n",
        "    for img, ax in zip(image_arr, axes):\n",
        "          ax.imshow(img)\n",
        "    plt.tight_layout()\n",
        "    plt.show()"
      ],
      "metadata": {
        "id": "et6pFtKw0Qli"
      },
      "execution_count": 26,
      "outputs": []
    },
    {
      "cell_type": "code",
      "source": [
        "#Displaying 0th augmented images\n",
        "images = [training_data[0][0][0] for i in range(5)]\n",
        "plotImages(images)"
      ],
      "metadata": {
        "id": "SwxDBl0I6RQi"
      },
      "execution_count": null,
      "outputs": []
    },
    {
      "cell_type": "code",
      "source": [
        "#Creating validation augmented images\n",
        "# Generating more images using only rescaling\n",
        "validation_datagen = ImageDataGenerator(rescale = 1./255)\n",
        "# This generator reads images from train dataset and \n",
        "# create batches of augmented image data \n",
        "\n",
        "validation_data  = validation_datagen.flow_from_directory(validation_dataset_path,target_size=(200,200),batch_size = 128,class_mode = 'binary') "
      ],
      "metadata": {
        "id": "x_7_uWCR6cfN"
      },
      "execution_count": null,
      "outputs": []
    }
  ]
}