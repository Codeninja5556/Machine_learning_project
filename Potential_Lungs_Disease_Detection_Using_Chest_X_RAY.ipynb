{
  "nbformat": 4,
  "nbformat_minor": 0,
  "metadata": {
    "colab": {
      "provenance": [],
      "authorship_tag": "ABX9TyMkK7cJ2ueOexQNpjJIAGK8"
    },
    "kernelspec": {
      "name": "python3",
      "display_name": "Python 3"
    },
    "language_info": {
      "name": "python"
    }
  },
  "cells": [
    {
      "cell_type": "markdown",
      "source": [
        "#**Potential Lungs Disease Detection Using Chest X-RAY**"
      ],
      "metadata": {
        "id": "i3pvUcNd4JaE"
      }
    },
    {
      "cell_type": "markdown",
      "source": [
        "## Importing Required Libraries"
      ],
      "metadata": {
        "id": "bK-z6mC84QN7"
      }
    },
    {
      "cell_type": "code",
      "execution_count": 1,
      "metadata": {
        "id": "VGG7FuTu07RZ"
      },
      "outputs": [],
      "source": [
        "import numpy as np # For Data processing\n",
        "import tensorflow.keras as tk  # For Model processing \n",
        "import seaborn as sns  # Python data visualization library based on matplotlib\n",
        "import matplotlib.pyplot as plt  # For Data Visualization\n",
        "from tensorflow.keras.preprocessing.image import ImageDataGenerator # For Data Preprocessing\n",
        "from tensorflow.keras.callbacks import EarlyStopping,ModelCheckpoint, TensorBoard #For Getting The Best Model\n",
        "from tensorflow.keras.optimizers import Adam # Optimizer \n",
        "from sklearn.metrics import classification_report,confusion_matrix # Generating Confusion matrix and classification_report of matrix "
      ]
    },
    {
      "cell_type": "markdown",
      "source": [
        "## Data Acquisition\n",
        "###### This is a face mask detection dataset from kaggle authored by jtiptj (https://www.kaggle.com/datasets/jtiptj/chest-xray-pneumoniacovid19tuberculosis) ,The dataset is organized into 3 folders (train, test, val) and contains subfolders for each image category (Normal/Pneumonia/Covid-19/Tuberculosis). A total of 7135 x-ray images are present.\n"
      ],
      "metadata": {
        "id": "d5CBliVR71Gj"
      }
    },
    {
      "cell_type": "markdown",
      "source": [
        "### Download Dataset From Kaggle"
      ],
      "metadata": {
        "id": "NuNcJ6p59PRO"
      }
    },
    {
      "cell_type": "code",
      "source": [
        "# Install Kaggle Supporting Python Library\n",
        "!pip install kaggle"
      ],
      "metadata": {
        "id": "qHBvYXU07vDs"
      },
      "execution_count": null,
      "outputs": []
    },
    {
      "cell_type": "code",
      "source": [
        "#Mount Google Drive To Get The Kaggle Credentials\n",
        "from google.colab import drive\n",
        "drive.mount('/content/drive')"
      ],
      "metadata": {
        "id": "rA6GMxR5Irxl"
      },
      "execution_count": null,
      "outputs": []
    },
    {
      "cell_type": "code",
      "source": [
        "# Create A Temporary Storage To Store The Kaggle Credentials Into Root \n",
        "! mkdir ~/.kaggle"
      ],
      "metadata": {
        "id": "bUU_hCAJJJDa"
      },
      "execution_count": null,
      "outputs": []
    },
    {
      "cell_type": "code",
      "source": [
        "#Copy The Credentials From Google Drive To Temporary Storage\n",
        "! cp '/content/drive/MyDrive/Colab Notebooks/Kaggle cred/kaggle.json' ~/.kaggle/kaggle.json"
      ],
      "metadata": {
        "id": "5K2OrY3nJpkd"
      },
      "execution_count": 10,
      "outputs": []
    },
    {
      "cell_type": "code",
      "source": [
        "# Checking For The Credentials File\n",
        "! ls -a /root/.kaggle"
      ],
      "metadata": {
        "id": "0XsYo584Kjac"
      },
      "execution_count": null,
      "outputs": []
    },
    {
      "cell_type": "code",
      "source": [
        "#Changing The Credentials File To Owner Only\n",
        "! chmod 600 ~/.kaggle/kaggle.json"
      ],
      "metadata": {
        "id": "KaDrqafULHuG"
      },
      "execution_count": 17,
      "outputs": []
    },
    {
      "cell_type": "code",
      "source": [
        "#Downloading The Dataset From Kaggle \n",
        "! kaggle datasets download jtiptj/chest-xray-pneumoniacovid19tuberculosis"
      ],
      "metadata": {
        "id": "PUrhhOq_Lsap"
      },
      "execution_count": null,
      "outputs": []
    },
    {
      "cell_type": "code",
      "source": [
        "#Unzip The Dataset \n",
        "! unzip /content/chest-xray-pneumoniacovid19tuberculosis.zip"
      ],
      "metadata": {
        "id": "JCdhgoOIMEDs"
      },
      "execution_count": null,
      "outputs": []
    },
    {
      "cell_type": "markdown",
      "source": [
        "###Data Preprocessing"
      ],
      "metadata": {
        "id": "HaaP7aWzNUwI"
      }
    },
    {
      "cell_type": "code",
      "source": [
        "#Assigning Image Folders To Corresponding Variables \n",
        "train_dataset_path = '/content/train'\n",
        "validation_dataset_path ='/content/val'\n",
        "test_dataset_path = '/content/test'"
      ],
      "metadata": {
        "id": "F-93DW1NNYJ1"
      },
      "execution_count": 21,
      "outputs": []
    },
    {
      "cell_type": "code",
      "source": [
        "#Create Augmented Images With Below Variables\n",
        "training_datagen = ImageDataGenerator(rescale = 1./255, rotation_range = 40,\n",
        "                                                                  width_shift_range = 0.2,\n",
        "                                                                  height_shift_range = 0.2,\n",
        "                                                                  shear_range = 0.2,\n",
        "                                                                  zoom_range = 0.2,\n",
        "                                                                  horizontal_flip = True,\n",
        "                                                                  fill_mode = 'nearest'\n",
        "                                                                  )\n",
        "#This generator reads images from train dataset and \n",
        "# create batches of augmented image data \n",
        "training_data  = training_datagen.flow_from_directory(train_dataset_path\n",
        "                                                      ,target_size=(200,200),batch_size = 128,class_mode = 'categorical')   "
      ],
      "metadata": {
        "colab": {
          "base_uri": "https://localhost:8080/"
        },
        "id": "bSZagyh9PSRE",
        "outputId": "9da72ed6-67b1-49b2-9730-d77f33c11675"
      },
      "execution_count": 31,
      "outputs": [
        {
          "output_type": "stream",
          "name": "stdout",
          "text": [
            "Found 6326 images belonging to 4 classes.\n"
          ]
        }
      ]
    },
    {
      "cell_type": "code",
      "source": [
        "#Creating validation  and test augmented images\n",
        "# Generating more images using only rescaling\n",
        "datagen = ImageDataGenerator(rescale = 1./255)\n",
        "# This generator reads images from validation ,test dataset and \n",
        "# create batches of augmented image data \n",
        "\n",
        "validation_data  = datagen.flow_from_directory(validation_dataset_path,target_size=(200,200),\n",
        "                                                                                              batch_size = 128,class_mode = 'categorical')\n",
        "test_data  = datagen.flow_from_directory(test_dataset_path,target_size=(200,200),\n",
        "                                                                                              batch_size = 128,class_mode = 'categorical')\n",
        " "
      ],
      "metadata": {
        "colab": {
          "base_uri": "https://localhost:8080/"
        },
        "id": "tEoiMGmnTr1c",
        "outputId": "79826aa1-e3c6-4264-e992-eabbf232d1db"
      },
      "execution_count": 32,
      "outputs": [
        {
          "output_type": "stream",
          "name": "stdout",
          "text": [
            "Found 38 images belonging to 4 classes.\n",
            "Found 771 images belonging to 4 classes.\n"
          ]
        }
      ]
    },
    {
      "cell_type": "code",
      "source": [
        "# To Display The Dictionary Of Class\n",
        "training_data.class_indices "
      ],
      "metadata": {
        "colab": {
          "base_uri": "https://localhost:8080/"
        },
        "id": "9F4-w0CrU1NE",
        "outputId": "80358f69-b5f4-4086-9c40-f5b4f8783a5f"
      },
      "execution_count": 26,
      "outputs": [
        {
          "output_type": "execute_result",
          "data": {
            "text/plain": [
              "{'COVID19': 0, 'NORMAL': 1, 'PNEUMONIA': 2, 'TURBERCULOSIS': 3}"
            ]
          },
          "metadata": {},
          "execution_count": 26
        }
      ]
    },
    {
      "cell_type": "code",
      "source": [
        "# To Display The Augmented Images\n",
        "def plotImages(image_arr):\n",
        "    fig, axes  = plt.subplots(1,5,figsize=(20,20))\n",
        "    axes = axes.flatten()\n",
        "    for img, ax in zip(image_arr, axes):\n",
        "          ax.imshow(img)\n",
        "    plt.tight_layout()\n",
        "    plt.show()\n",
        "images = [training_data[0][0][0] for i in range(5)]\n",
        "plotImages(images)"
      ],
      "metadata": {
        "id": "QgXt82DCVQgS"
      },
      "execution_count": null,
      "outputs": []
    }
  ]
}