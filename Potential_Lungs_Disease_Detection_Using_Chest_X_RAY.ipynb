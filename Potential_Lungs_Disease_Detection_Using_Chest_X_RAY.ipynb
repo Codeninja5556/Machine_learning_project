{
  "nbformat": 4,
  "nbformat_minor": 0,
  "metadata": {
    "colab": {
      "provenance": [],
      "authorship_tag": "ABX9TyPT4bC7Pu1K8YwGbjIGzWZg"
    },
    "kernelspec": {
      "name": "python3",
      "display_name": "Python 3"
    },
    "language_info": {
      "name": "python"
    }
  },
  "cells": [
    {
      "cell_type": "markdown",
      "source": [
        "#**Potential Lungs Disease Detection Using Chest X-RAY**"
      ],
      "metadata": {
        "id": "i3pvUcNd4JaE"
      }
    },
    {
      "cell_type": "markdown",
      "source": [
        "## Importing Required Libraries"
      ],
      "metadata": {
        "id": "bK-z6mC84QN7"
      }
    },
    {
      "cell_type": "code",
      "execution_count": 1,
      "metadata": {
        "id": "VGG7FuTu07RZ"
      },
      "outputs": [],
      "source": [
        "import numpy as np # For Data processing\n",
        "import tensorflow.keras as tk  # For Model processing \n",
        "import seaborn as sns  # Python data visualization library based on matplotlib\n",
        "import matplotlib.pyplot as plt  # For Data Visualization\n",
        "from tensorflow.keras.preprocessing.image import ImageDataGenerator # For Data Preprocessing\n",
        "from tensorflow.keras.callbacks import EarlyStopping,ModelCheckpoint, TensorBoard #For Getting The Best Model\n",
        "from tensorflow.keras.optimizers import Adam # Optimizer \n",
        "from sklearn.metrics import classification_report,confusion_matrix # Generating Confusion matrix and classification_report of matrix "
      ]
    },
    {
      "cell_type": "markdown",
      "source": [
        "## Data Acquisition\n",
        "###### This is a face mask detection dataset from kaggle authored by jtiptj (https://www.kaggle.com/datasets/jtiptj/chest-xray-pneumoniacovid19tuberculosis) ,The dataset is organized into 3 folders (train, test, val) and contains subfolders for each image category (Normal/Pneumonia/Covid-19/Tuberculosis). A total of 7135 x-ray images are present.\n"
      ],
      "metadata": {
        "id": "d5CBliVR71Gj"
      }
    },
    {
      "cell_type": "markdown",
      "source": [
        "### Download Dataset From Kaggle"
      ],
      "metadata": {
        "id": "NuNcJ6p59PRO"
      }
    },
    {
      "cell_type": "code",
      "source": [
        "# Install Kaggle Supporting Python Library\n",
        "!pip install kaggle"
      ],
      "metadata": {
        "id": "qHBvYXU07vDs"
      },
      "execution_count": null,
      "outputs": []
    },
    {
      "cell_type": "code",
      "source": [
        "#Mount Google Drive To Get The Kaggle Credentials\n",
        "from google.colab import drive\n",
        "drive.mount('/content/drive')"
      ],
      "metadata": {
        "id": "rA6GMxR5Irxl"
      },
      "execution_count": null,
      "outputs": []
    },
    {
      "cell_type": "code",
      "source": [
        "# Create A Temporary Storage To Store The Kaggle Credentials Into Root \n",
        "! mkdir ~/.kaggle"
      ],
      "metadata": {
        "id": "bUU_hCAJJJDa"
      },
      "execution_count": null,
      "outputs": []
    },
    {
      "cell_type": "code",
      "source": [
        "#Copy The Credentials From Google Drive To Temporary Storage\n",
        "! cp '/content/drive/MyDrive/Colab Notebooks/Kaggle cred/kaggle.json' ~/.kaggle/kaggle.json"
      ],
      "metadata": {
        "id": "5K2OrY3nJpkd"
      },
      "execution_count": 10,
      "outputs": []
    },
    {
      "cell_type": "code",
      "source": [
        "# Checking For The Credentials File\n",
        "! ls -a /root/.kaggle"
      ],
      "metadata": {
        "id": "0XsYo584Kjac"
      },
      "execution_count": null,
      "outputs": []
    },
    {
      "cell_type": "code",
      "source": [
        "#Changing The Credentials File To Owner Only\n",
        "! chmod 600 ~/.kaggle/kaggle.json"
      ],
      "metadata": {
        "id": "KaDrqafULHuG"
      },
      "execution_count": 17,
      "outputs": []
    },
    {
      "cell_type": "code",
      "source": [
        "#Downloading The Dataset From Kaggle \n",
        "! kaggle datasets download jtiptj/chest-xray-pneumoniacovid19tuberculosis"
      ],
      "metadata": {
        "id": "PUrhhOq_Lsap"
      },
      "execution_count": null,
      "outputs": []
    },
    {
      "cell_type": "code",
      "source": [
        "#Unzip The Dataset \n",
        "! unzip /content/chest-xray-pneumoniacovid19tuberculosis.zip"
      ],
      "metadata": {
        "id": "JCdhgoOIMEDs"
      },
      "execution_count": null,
      "outputs": []
    }
  ]
}