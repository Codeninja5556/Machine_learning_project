{
  "nbformat": 4,
  "nbformat_minor": 0,
  "metadata": {
    "colab": {
      "provenance": [],
      "authorship_tag": "ABX9TyMM6E5O9yGWh/WlS6NgW4tT",
      "include_colab_link": true
    },
    "kernelspec": {
      "name": "python3",
      "display_name": "Python 3"
    },
    "language_info": {
      "name": "python"
    }
  },
  "cells": [
    {
      "cell_type": "markdown",
      "metadata": {
        "id": "view-in-github",
        "colab_type": "text"
      },
      "source": [
        "<a href=\"https://colab.research.google.com/github/ninja-codes-droid/Machine_learning_project/blob/master/Deploying_Model.ipynb\" target=\"_parent\"><img src=\"https://colab.research.google.com/assets/colab-badge.svg\" alt=\"Open In Colab\"/></a>"
      ]
    },
    {
      "cell_type": "code",
      "execution_count": 11,
      "metadata": {
        "id": "o8iv-A7hGwJd"
      },
      "outputs": [],
      "source": [
        "#Importing Libraries to Deploy Model \n",
        "import tensorflow.keras as tk\n",
        "import tensorflow as tf\n",
        "import numpy as np\n"
      ]
    },
    {
      "cell_type": "code",
      "source": [
        "#Mount Google Drive To Download the Model \n",
        "from google.colab import drive\n",
        "drive.mount('/content/drive')"
      ],
      "metadata": {
        "colab": {
          "base_uri": "https://localhost:8080/"
        },
        "id": "7mx4brP8G9ae",
        "outputId": "2510cf5d-a1c0-4f21-f67f-7b61178cf613"
      },
      "execution_count": 3,
      "outputs": [
        {
          "output_type": "stream",
          "name": "stdout",
          "text": [
            "Mounted at /content/drive\n"
          ]
        }
      ]
    },
    {
      "cell_type": "code",
      "source": [
        "# Install Kaggle Supporting Python Library\n",
        "!pip install kaggle"
      ],
      "metadata": {
        "colab": {
          "base_uri": "https://localhost:8080/"
        },
        "id": "6Gxk6zH1Hdz-",
        "outputId": "ee04a51f-c33a-4b4c-ee00-68ca4620db77"
      },
      "execution_count": 4,
      "outputs": [
        {
          "output_type": "stream",
          "name": "stdout",
          "text": [
            "Looking in indexes: https://pypi.org/simple, https://us-python.pkg.dev/colab-wheels/public/simple/\n",
            "Requirement already satisfied: kaggle in /usr/local/lib/python3.9/dist-packages (1.5.13)\n",
            "Requirement already satisfied: urllib3 in /usr/local/lib/python3.9/dist-packages (from kaggle) (1.26.15)\n",
            "Requirement already satisfied: tqdm in /usr/local/lib/python3.9/dist-packages (from kaggle) (4.65.0)\n",
            "Requirement already satisfied: python-slugify in /usr/local/lib/python3.9/dist-packages (from kaggle) (8.0.1)\n",
            "Requirement already satisfied: requests in /usr/local/lib/python3.9/dist-packages (from kaggle) (2.27.1)\n",
            "Requirement already satisfied: python-dateutil in /usr/local/lib/python3.9/dist-packages (from kaggle) (2.8.2)\n",
            "Requirement already satisfied: certifi in /usr/local/lib/python3.9/dist-packages (from kaggle) (2022.12.7)\n",
            "Requirement already satisfied: six>=1.10 in /usr/local/lib/python3.9/dist-packages (from kaggle) (1.16.0)\n",
            "Requirement already satisfied: text-unidecode>=1.3 in /usr/local/lib/python3.9/dist-packages (from python-slugify->kaggle) (1.3)\n",
            "Requirement already satisfied: idna<4,>=2.5 in /usr/local/lib/python3.9/dist-packages (from requests->kaggle) (3.4)\n",
            "Requirement already satisfied: charset-normalizer~=2.0.0 in /usr/local/lib/python3.9/dist-packages (from requests->kaggle) (2.0.12)\n"
          ]
        }
      ]
    },
    {
      "cell_type": "code",
      "source": [
        "# Create A Temporary Storage To Store The Kaggle Credentials Into Root \n",
        "! mkdir ~/.kaggle"
      ],
      "metadata": {
        "id": "7hWS7PxwHefu"
      },
      "execution_count": 5,
      "outputs": []
    },
    {
      "cell_type": "code",
      "source": [
        "#Copy The Credentials From Google Drive To Temporary Storage\n",
        "! cp '/content/drive/MyDrive/Colab Notebooks/Kaggle cred/kaggle.json' ~/.kaggle/kaggle.json"
      ],
      "metadata": {
        "id": "Ey3G6jfZHhsQ"
      },
      "execution_count": 6,
      "outputs": []
    },
    {
      "cell_type": "code",
      "source": [
        "# Checking For The Credentials File\n",
        "! ls -a /root/.kaggle"
      ],
      "metadata": {
        "colab": {
          "base_uri": "https://localhost:8080/"
        },
        "id": "4bgf0j1IHkNH",
        "outputId": "74b062c5-968e-419b-fd56-2f6a385e6841"
      },
      "execution_count": 7,
      "outputs": [
        {
          "output_type": "stream",
          "name": "stdout",
          "text": [
            ".  ..  kaggle.json\n"
          ]
        }
      ]
    },
    {
      "cell_type": "code",
      "source": [
        "#Changing The Credentials File To Owner Only\n",
        "! chmod 600 ~/.kaggle/kaggle.json"
      ],
      "metadata": {
        "id": "eFlfcScmHmP7"
      },
      "execution_count": 8,
      "outputs": []
    },
    {
      "cell_type": "code",
      "source": [
        "#Downloading The Dataset From Kaggle \n",
        "! kaggle datasets download omkarmanohardalvi/lungs-disease-dataset-4-types"
      ],
      "metadata": {
        "colab": {
          "base_uri": "https://localhost:8080/"
        },
        "id": "UcrIyq0lHpF0",
        "outputId": "d9177b37-32e5-4013-f22d-83b67835c2c9"
      },
      "execution_count": 9,
      "outputs": [
        {
          "output_type": "stream",
          "name": "stdout",
          "text": [
            "Downloading lungs-disease-dataset-4-types.zip to /content\n",
            "100% 2.02G/2.02G [01:18<00:00, 28.0MB/s]\n",
            "100% 2.02G/2.02G [01:18<00:00, 27.6MB/s]\n"
          ]
        }
      ]
    },
    {
      "cell_type": "code",
      "source": [
        "#Unzip The Dataset \n",
        "! unzip /content/lungs-disease-dataset-4-types.zip"
      ],
      "metadata": {
        "id": "PEJi7IsiHrjY"
      },
      "execution_count": null,
      "outputs": []
    },
    {
      "cell_type": "code",
      "source": [
        "def predict_disease(img):\n",
        "  \n",
        "    # labels for each distinct category \n",
        "    labels = {0:'Bacterial Pneumonia',\n",
        "              1:'Corona Virus Disease',\n",
        "              2:'Normal',\n",
        "              3:'Tuberculosis',\n",
        "              4:'Viral Pneumonia'}\n",
        "\n",
        "    # loading the model \n",
        "    model = tf.keras.models.load_model(\"/content/drive/MyDrive/Colab Notebooks/Model/Detect_Model_v2_better.h5\")\n",
        "\n",
        "    # Preprocessing\n",
        "    img = tf.image.resize(img, [224, 224]) # resize the image\n",
        "    img = tf.keras.utils.img_to_array(img)\n",
        "\n",
        "    # Normalisation \n",
        "    img = img/255.\n",
        "    img = tf.expand_dims(img, axis=0)\n",
        "\n",
        "    # Make prediction \n",
        "    pred = model.predict(img, verbose=0)\n",
        "\n",
        "    # Converting probabilities to percentage values \n",
        "    pred_percent =  {label: round(pred[0][i]*100, 2) for i, label in labels.items()}\n",
        "\n",
        "    return pred_percent"
      ],
      "metadata": {
        "id": "fmdSxS63IB-H"
      },
      "execution_count": 18,
      "outputs": []
    },
    {
      "cell_type": "code",
      "source": [
        "import cv2\n",
        "picture_from_frontend = '/content/Lung Disease Dataset/test/Tuberculosis/Tuberculosis-134.jpg'\n",
        "imag = cv2.imread(picture_from_frontend )\n",
        "prediction = predict_disease(imag)\n",
        "print(\"Prediction:\", prediction)\n",
        "print(\"-\"*40)"
      ],
      "metadata": {
        "colab": {
          "base_uri": "https://localhost:8080/"
        },
        "id": "wn_LaSuFJk2-",
        "outputId": "17132dc1-ee2e-4f66-a11c-4f4e61233bc5"
      },
      "execution_count": 24,
      "outputs": [
        {
          "output_type": "stream",
          "name": "stderr",
          "text": [
            "WARNING:tensorflow:6 out of the last 6 calls to <function Model.make_predict_function.<locals>.predict_function at 0x7f74fc6699d0> triggered tf.function retracing. Tracing is expensive and the excessive number of tracings could be due to (1) creating @tf.function repeatedly in a loop, (2) passing tensors with different shapes, (3) passing Python objects instead of tensors. For (1), please define your @tf.function outside of the loop. For (2), @tf.function has reduce_retracing=True option that can avoid unnecessary retracing. For (3), please refer to https://www.tensorflow.org/guide/function#controlling_retracing and https://www.tensorflow.org/api_docs/python/tf/function for  more details.\n"
          ]
        },
        {
          "output_type": "stream",
          "name": "stdout",
          "text": [
            "Prediction: {'Bacterial Pneumonia': 0.06, 'Corona Virus Disease': 2.4, 'Normal': 0.02, 'Tuberculosis': 97.48, 'Viral Pneumonia': 0.05}\n",
            "----------------------------------------\n"
          ]
        }
      ]
    },
    {
      "cell_type": "code",
      "source": [],
      "metadata": {
        "id": "jdG3uaueKOko"
      },
      "execution_count": null,
      "outputs": []
    }
  ]
}